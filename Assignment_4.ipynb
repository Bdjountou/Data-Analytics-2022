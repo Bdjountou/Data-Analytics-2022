{
  "nbformat": 4,
  "nbformat_minor": 0,
  "metadata": {
    "colab": {
      "name": "Assignment 4",
      "provenance": [],
      "collapsed_sections": [],
      "include_colab_link": true
    },
    "kernelspec": {
      "name": "python3",
      "display_name": "Python 3"
    },
    "language_info": {
      "name": "python"
    }
  },
  "cells": [
    {
      "cell_type": "markdown",
      "metadata": {
        "id": "view-in-github",
        "colab_type": "text"
      },
      "source": [
        "<a href=\"https://colab.research.google.com/github/Bdjountou/Data-Analytics-2022/blob/main/Assignment_4.ipynb\" target=\"_parent\"><img src=\"https://colab.research.google.com/assets/colab-badge.svg\" alt=\"Open In Colab\"/></a>"
      ]
    },
    {
      "cell_type": "markdown",
      "source": [
        "##2-5 Conditional operators and if statements\n"
      ],
      "metadata": {
        "id": "JJNI2qrwqgYB"
      }
    },
    {
      "cell_type": "markdown",
      "source": [
        "## Task 1: Admin user names\n",
        "* Make a list of 5 or more usernames, including an admin account. Imagine you are writing code that will welcome people to your application on login. Loop through the list and print your greeting.\n",
        "* If the admin account logs in, give them a special greeting.  They’re the admin, after all!\n",
        "* Other users can get the generic greeting"
      ],
      "metadata": {
        "id": "mXe7c59GqpEX"
      }
    },
    {
      "cell_type": "code",
      "execution_count": null,
      "metadata": {
        "id": "TFOFGzWWqSNV"
      },
      "outputs": [],
      "source": [
        ""
      ]
    },
    {
      "cell_type": "code",
      "source": [
        "usernames=['rama01', 'bhoye224', 'bdjountou', 'hasso18', 'bah@104']"
      ],
      "metadata": {
        "id": "j3Hr_Lv7qw0I"
      },
      "execution_count": 1,
      "outputs": []
    },
    {
      "cell_type": "code",
      "source": [
        "for name in usernames:\n",
        "  if name == 'admin':\n",
        "    print ( ' Hello ' + name.title() +  \" , welcome and we really appreciate doing business through our app\")\n",
        "  else:\n",
        "    print ( ' Hello ' + name.title() +  \" , thank you for your everyday interest in our application\")"
      ],
      "metadata": {
        "id": "OI5G7XhaqxKD",
        "colab": {
          "base_uri": "https://localhost:8080/"
        },
        "outputId": "e687d068-7743-4645-b599-fb9fdd6350cd"
      },
      "execution_count": 7,
      "outputs": [
        {
          "output_type": "stream",
          "name": "stdout",
          "text": [
            " Hello Rama01 , thank you for your everyday interest in our application\n",
            " Hello Bhoye224 , thank you for your everyday interest in our application\n",
            " Hello Bdjountou , thank you for your everyday interest in our application\n",
            " Hello Hasso18 , thank you for your everyday interest in our application\n",
            " Hello Bah@104 , thank you for your everyday interest in our application\n"
          ]
        }
      ]
    },
    {
      "cell_type": "markdown",
      "source": [
        "##Task 2: Numbers\n",
        "\n",
        "* Store numbers 1-10 in a list\n",
        "* Loop through the list\n",
        "* Use an if-elif-else chain inside your loop to print the ordinal ending for each number – for example – 1st, 2nd, 3rd … etc."
      ],
      "metadata": {
        "id": "g3nnh2NJq9gY"
      }
    },
    {
      "cell_type": "code",
      "source": [
        "numbers= [1,2,3,4,5,6,7,8,9,10]"
      ],
      "metadata": {
        "id": "DwBbjFgTrWps"
      },
      "execution_count": 8,
      "outputs": []
    },
    {
      "cell_type": "code",
      "source": [
        "for R in numbers:\n",
        "  print(R)"
      ],
      "metadata": {
        "id": "hlU__zZFrXAV",
        "colab": {
          "base_uri": "https://localhost:8080/"
        },
        "outputId": "6408615f-1051-4af5-c97b-e2c315c6b827"
      },
      "execution_count": 9,
      "outputs": [
        {
          "output_type": "stream",
          "name": "stdout",
          "text": [
            "1\n",
            "2\n",
            "3\n",
            "4\n",
            "5\n",
            "6\n",
            "7\n",
            "8\n",
            "9\n",
            "10\n"
          ]
        }
      ]
    },
    {
      "cell_type": "code",
      "source": [
        "for a in numbers:\n",
        "  if a == 1:\n",
        "    print('1st')\n",
        "  elif a == 2:\n",
        "    print('2nd')\n",
        "  elif a == 3:\n",
        "    print('3rd')\n",
        "  elif a == 4:\n",
        "    print('4th')\n",
        "  elif a == 5:\n",
        "    print('5th')\n",
        "  elif a == 6:\n",
        "    print('6th')\n",
        "  elif a == 7:\n",
        "    print('7th')\n",
        "  elif a == 8:\n",
        "    print('8th')\n",
        "  elif a == 9:\n",
        "    print('9th')\n",
        "  elif a == 10:\n",
        "    print('10th')"
      ],
      "metadata": {
        "id": "UwohuUMIrXKR",
        "colab": {
          "base_uri": "https://localhost:8080/"
        },
        "outputId": "7b267100-3223-45e3-bd63-a1f115da9627"
      },
      "execution_count": 10,
      "outputs": [
        {
          "output_type": "stream",
          "name": "stdout",
          "text": [
            "1st\n",
            "2nd\n",
            "3rd\n",
            "4th\n",
            "5th\n",
            "6th\n",
            "7th\n",
            "8th\n",
            "9th\n",
            "10th\n"
          ]
        }
      ]
    }
  ]
}