{
  "nbformat": 4,
  "nbformat_minor": 0,
  "metadata": {
    "colab": {
      "name": "Assignment#2",
      "provenance": [],
      "collapsed_sections": [],
      "include_colab_link": true
    },
    "kernelspec": {
      "name": "python3",
      "display_name": "Python 3"
    }
  },
  "cells": [
    {
      "cell_type": "markdown",
      "metadata": {
        "id": "view-in-github",
        "colab_type": "text"
      },
      "source": [
        "<a href=\"https://colab.research.google.com/github/Bdjountou/Data-Analytics-2022/blob/main/Assignment_2.ipynb\" target=\"_parent\"><img src=\"https://colab.research.google.com/assets/colab-badge.svg\" alt=\"Open In Colab\"/></a>"
      ]
    },
    {
      "cell_type": "markdown",
      "metadata": {
        "id": "Vgs8Kp4TidFQ"
      },
      "source": [
        "# 2-3 - Python Lists - Assingment #2  "
      ]
    },
    {
      "cell_type": "markdown",
      "metadata": {
        "id": "_Hq7Ny79iwgD"
      },
      "source": [
        "## 1.Create a list of 5 of your favorite tv shows.  ?"
      ]
    },
    {
      "cell_type": "code",
      "metadata": {
        "id": "lotvpVpvlKsR"
      },
      "source": [
        "tv_shows=[\"steve harvey\",\"what you need to know\",\"station eleven\",\"feel good\",\"the club\"]"
      ],
      "execution_count": 24,
      "outputs": []
    },
    {
      "cell_type": "markdown",
      "source": [
        "2. Print the list in its original order"
      ],
      "metadata": {
        "id": "XVO1LlnuKDXd"
      }
    },
    {
      "cell_type": "code",
      "source": [
        "print(tv_shows)"
      ],
      "metadata": {
        "id": "zYdUteGu-1zg",
        "colab": {
          "base_uri": "https://localhost:8080/"
        },
        "outputId": "3f4cdc76-c70f-4d5b-f12b-36218d2196ea"
      },
      "execution_count": 25,
      "outputs": [
        {
          "output_type": "stream",
          "name": "stdout",
          "text": [
            "['steve harvey', 'what you need to know', 'station eleven', 'feel good', 'the club']\n"
          ]
        }
      ]
    },
    {
      "cell_type": "markdown",
      "metadata": {
        "id": "DAW8m8IQjRyR"
      },
      "source": [
        "## 3.\tUse the sorted() function to print the list in alphabetical order.  How is sorted() different from sort()?"
      ]
    },
    {
      "cell_type": "code",
      "metadata": {
        "id": "guULMEhrjYtT",
        "colab": {
          "base_uri": "https://localhost:8080/"
        },
        "outputId": "6c54f0c3-f31d-467c-a5ee-9aa99848c4ce"
      },
      "source": [
        "print(tv_shows)\n",
        "tv_shows.sort()\n",
        "print(tv_shows)"
      ],
      "execution_count": 36,
      "outputs": [
        {
          "output_type": "stream",
          "name": "stdout",
          "text": [
            "['what you need to know', 'the club', 'steve harvey', 'station eleven', 'feel good']\n",
            "['feel good', 'station eleven', 'steve harvey', 'the club', 'what you need to know']\n"
          ]
        }
      ]
    },
    {
      "cell_type": "markdown",
      "source": [
        "# the sorted create a new list containing a sorted version of the list that it had. "
      ],
      "metadata": {
        "id": "qlkiiVqnMU8S"
      }
    },
    {
      "cell_type": "markdown",
      "metadata": {
        "id": "dpa_YOt4jXyo"
      },
      "source": [
        "## 4.\tPrint out your original list."
      ]
    },
    {
      "cell_type": "code",
      "metadata": {
        "id": "pltxfnh3iJLW",
        "colab": {
          "base_uri": "https://localhost:8080/"
        },
        "outputId": "4da1604b-7f83-4d96-a10a-e16cf602dd55"
      },
      "source": [
        "print(tv_shows)"
      ],
      "execution_count": 37,
      "outputs": [
        {
          "output_type": "stream",
          "name": "stdout",
          "text": [
            "['feel good', 'station eleven', 'steve harvey', 'the club', 'what you need to know']\n"
          ]
        }
      ]
    },
    {
      "cell_type": "markdown",
      "metadata": {
        "id": "Ka84RGy4jmLT"
      },
      "source": [
        "\n",
        "\n",
        "```\n",
        "# This is formatted as code\n",
        "```\n",
        "\n",
        "## 5.\tUsed sort() to print your list in reverse alphabetical order."
      ]
    },
    {
      "cell_type": "code",
      "metadata": {
        "id": "34IFFtK4jrg4",
        "colab": {
          "base_uri": "https://localhost:8080/"
        },
        "outputId": "fff51f15-ec4b-402c-9d06-55d3993eae32"
      },
      "source": [
        "print(tv_shows)\n",
        "tv_shows.sort(reverse=True)\n",
        "print(tv_shows)"
      ],
      "execution_count": 38,
      "outputs": [
        {
          "output_type": "stream",
          "name": "stdout",
          "text": [
            "['feel good', 'station eleven', 'steve harvey', 'the club', 'what you need to know']\n",
            "['what you need to know', 'the club', 'steve harvey', 'station eleven', 'feel good']\n"
          ]
        }
      ]
    },
    {
      "cell_type": "markdown",
      "metadata": {
        "id": "ZKHwdMnLliFy"
      },
      "source": [
        "## 6.\tCreate a message indicating how many favorite TV shows you have – use the len() function."
      ]
    },
    {
      "cell_type": "code",
      "metadata": {
        "id": "eXUDZfLOllTT",
        "colab": {
          "base_uri": "https://localhost:8080/"
        },
        "outputId": "3b462f41-3255-4559-e77c-b85b82e5af12"
      },
      "source": [
        "print(tv_shows)\n",
        "len(tv_shows)"
      ],
      "execution_count": 41,
      "outputs": [
        {
          "output_type": "stream",
          "name": "stdout",
          "text": [
            "['what you need to know', 'the club', 'steve harvey', 'station eleven', 'feel good']\n"
          ]
        },
        {
          "output_type": "execute_result",
          "data": {
            "text/plain": [
              "5"
            ]
          },
          "metadata": {},
          "execution_count": 41
        }
      ]
    }
  ]
}