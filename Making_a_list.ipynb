{
  "nbformat": 4,
  "nbformat_minor": 0,
  "metadata": {
    "colab": {
      "name": "Making a list",
      "provenance": [],
      "collapsed_sections": [],
      "authorship_tag": "ABX9TyN9ApZyTaKvSP7tJ5u9REWQ",
      "include_colab_link": true
    },
    "kernelspec": {
      "name": "python3",
      "display_name": "Python 3"
    },
    "language_info": {
      "name": "python"
    }
  },
  "cells": [
    {
      "cell_type": "markdown",
      "metadata": {
        "id": "view-in-github",
        "colab_type": "text"
      },
      "source": [
        "<a href=\"https://colab.research.google.com/github/Bdjountou/Data-Analytics-2022/blob/main/Making_a_list.ipynb\" target=\"_parent\"><img src=\"https://colab.research.google.com/assets/colab-badge.svg\" alt=\"Open In Colab\"/></a>"
      ]
    },
    {
      "cell_type": "code",
      "execution_count": null,
      "metadata": {
        "id": "T5Dda3Bdf4S1"
      },
      "outputs": [],
      "source": [
        "movies=[\"Blacklist\", \"Die hard\", \"Prison break\", \"Stay close\"]"
      ]
    },
    {
      "cell_type": "code",
      "source": [
        "print(movies)"
      ],
      "metadata": {
        "colab": {
          "base_uri": "https://localhost:8080/"
        },
        "id": "olRUn_owhNUv",
        "outputId": "9daca7a9-d754-47b1-fd35-723062099c59"
      },
      "execution_count": null,
      "outputs": [
        {
          "output_type": "stream",
          "name": "stdout",
          "text": [
            "['Blacklist', 'Die hard', 'Prison break', 'Stay close']\n"
          ]
        }
      ]
    },
    {
      "cell_type": "code",
      "source": [
        "print(movies[2])"
      ],
      "metadata": {
        "colab": {
          "base_uri": "https://localhost:8080/"
        },
        "id": "jY9VTTSbhUXX",
        "outputId": "ef49b24d-075b-4eb5-cd01-e3d433b573ab"
      },
      "execution_count": null,
      "outputs": [
        {
          "output_type": "stream",
          "name": "stdout",
          "text": [
            "Prison break\n"
          ]
        }
      ]
    },
    {
      "cell_type": "code",
      "source": [
        "print(movies[1])\n",
        "print(movies[3])"
      ],
      "metadata": {
        "colab": {
          "base_uri": "https://localhost:8080/"
        },
        "id": "2OvlTwAjhpBi",
        "outputId": "21a22509-7858-42b1-8962-663323a97cb4"
      },
      "execution_count": null,
      "outputs": [
        {
          "output_type": "stream",
          "name": "stdout",
          "text": [
            "Die hard\n",
            "Stay close\n"
          ]
        }
      ]
    },
    {
      "cell_type": "code",
      "source": [
        "print(movies[-1]) #pulls from end of list\n",
        "print(movies[-2])"
      ],
      "metadata": {
        "colab": {
          "base_uri": "https://localhost:8080/"
        },
        "id": "OkTKeW3UiuAF",
        "outputId": "011cc0d0-cdb8-4cf2-e98b-1d84f4ea484f"
      },
      "execution_count": null,
      "outputs": [
        {
          "output_type": "stream",
          "name": "stdout",
          "text": [
            "Stay close\n",
            "Prison break\n"
          ]
        }
      ]
    },
    {
      "cell_type": "code",
      "source": [
        "print(movies[0].upper())\n",
        "print(movies[0].lower())\n",
        "print(movies[0].title())"
      ],
      "metadata": {
        "colab": {
          "base_uri": "https://localhost:8080/"
        },
        "id": "GTqJq50CjG3O",
        "outputId": "6745d37e-95d9-4ede-d4c7-7e980fcbf8c9"
      },
      "execution_count": null,
      "outputs": [
        {
          "output_type": "stream",
          "name": "stdout",
          "text": [
            "BLACKLIST\n",
            "blacklist\n",
            "Blacklist\n"
          ]
        }
      ]
    },
    {
      "cell_type": "code",
      "source": [
        "names=['alpha', 'oumar', 'rama', 'hamidou','aly']\n",
        "print(names[0])\n",
        "print(names[1])\n",
        "print(names[2])\n",
        "print(names[3])\n",
        "print(names[4])"
      ],
      "metadata": {
        "colab": {
          "base_uri": "https://localhost:8080/"
        },
        "id": "03j_NLcI7lA0",
        "outputId": "b303c57e-9c3b-45e2-900f-217f2f4cd334"
      },
      "execution_count": 15,
      "outputs": [
        {
          "output_type": "stream",
          "name": "stdout",
          "text": [
            "alpha\n",
            "oumar\n",
            "rama\n",
            "hamidou\n",
            "aly\n"
          ]
        }
      ]
    },
    {
      "cell_type": "code",
      "source": [
        "message=\"hello i hope you are doing well \" + names[0].upper()+ \"!'\n",
        "                          \n",
        "print(message)"
      ],
      "metadata": {
        "colab": {
          "base_uri": "https://localhost:8080/",
          "height": 130
        },
        "id": "_LFmX8xQ9dpD",
        "outputId": "876b43a2-e788-4098-f44b-3fc40a1bcfaf"
      },
      "execution_count": 51,
      "outputs": [
        {
          "output_type": "error",
          "ename": "SyntaxError",
          "evalue": "ignored",
          "traceback": [
            "\u001b[0;36m  File \u001b[0;32m\"<ipython-input-51-76991f182c3e>\"\u001b[0;36m, line \u001b[0;32m1\u001b[0m\n\u001b[0;31m    message=\"hello i hope you are doing well \" + names[0].upper()+ \"!'\u001b[0m\n\u001b[0m                                                                      ^\u001b[0m\n\u001b[0;31mSyntaxError\u001b[0m\u001b[0;31m:\u001b[0m EOL while scanning string literal\n"
          ]
        }
      ]
    },
    {
      "cell_type": "code",
      "source": [
        "foods=['fied chicken', 'pizza', 'tacos', 'rice']"
      ],
      "metadata": {
        "id": "94yvCkDhFWYJ"
      },
      "execution_count": 53,
      "outputs": []
    },
    {
      "cell_type": "code",
      "source": [
        "print (\"My fovirite foods are \"  + food[0] + \", \" + foods[1] + \", and \" + foods[2] + \", \")"
      ],
      "metadata": {
        "colab": {
          "base_uri": "https://localhost:8080/",
          "height": 164
        },
        "id": "8dRb7fYZFrRF",
        "outputId": "079d2c7a-0d78-4c20-da7a-9e25e4344e64"
      },
      "execution_count": 54,
      "outputs": [
        {
          "output_type": "error",
          "ename": "NameError",
          "evalue": "ignored",
          "traceback": [
            "\u001b[0;31m---------------------------------------------------------------------------\u001b[0m",
            "\u001b[0;31mNameError\u001b[0m                                 Traceback (most recent call last)",
            "\u001b[0;32m<ipython-input-54-8f63a9ee8f87>\u001b[0m in \u001b[0;36m<module>\u001b[0;34m()\u001b[0m\n\u001b[0;32m----> 1\u001b[0;31m \u001b[0mprint\u001b[0m \u001b[0;34m(\u001b[0m\u001b[0;34m\"My fovirite foods are \"\u001b[0m  \u001b[0;34m+\u001b[0m \u001b[0mfood\u001b[0m\u001b[0;34m[\u001b[0m\u001b[0;36m0\u001b[0m\u001b[0;34m]\u001b[0m \u001b[0;34m+\u001b[0m \u001b[0;34m\", \"\u001b[0m \u001b[0;34m+\u001b[0m \u001b[0mfoods\u001b[0m\u001b[0;34m[\u001b[0m\u001b[0;36m1\u001b[0m\u001b[0;34m]\u001b[0m \u001b[0;34m+\u001b[0m \u001b[0;34m\", and \"\u001b[0m \u001b[0;34m+\u001b[0m \u001b[0mfoods\u001b[0m\u001b[0;34m[\u001b[0m\u001b[0;36m2\u001b[0m\u001b[0;34m]\u001b[0m \u001b[0;34m+\u001b[0m \u001b[0;34m\", \"\u001b[0m\u001b[0;34m)\u001b[0m\u001b[0;34m\u001b[0m\u001b[0;34m\u001b[0m\u001b[0m\n\u001b[0m",
            "\u001b[0;31mNameError\u001b[0m: name 'food' is not defined"
          ]
        }
      ]
    },
    {
      "cell_type": "code",
      "source": [
        "foods.append(tacos)\n",
        "print(food)"
      ],
      "metadata": {
        "colab": {
          "base_uri": "https://localhost:8080/",
          "height": 181
        },
        "id": "EufNuc4wVmh1",
        "outputId": "7dc863a3-d510-429f-da8e-5d54899262e7"
      },
      "execution_count": 55,
      "outputs": [
        {
          "output_type": "error",
          "ename": "NameError",
          "evalue": "ignored",
          "traceback": [
            "\u001b[0;31m---------------------------------------------------------------------------\u001b[0m",
            "\u001b[0;31mNameError\u001b[0m                                 Traceback (most recent call last)",
            "\u001b[0;32m<ipython-input-55-5f740b860570>\u001b[0m in \u001b[0;36m<module>\u001b[0;34m()\u001b[0m\n\u001b[0;32m----> 1\u001b[0;31m \u001b[0mfoods\u001b[0m\u001b[0;34m.\u001b[0m\u001b[0mappend\u001b[0m\u001b[0;34m(\u001b[0m\u001b[0mtacos\u001b[0m\u001b[0;34m)\u001b[0m\u001b[0;34m\u001b[0m\u001b[0;34m\u001b[0m\u001b[0m\n\u001b[0m\u001b[1;32m      2\u001b[0m \u001b[0mprint\u001b[0m\u001b[0;34m(\u001b[0m\u001b[0mfood\u001b[0m\u001b[0;34m)\u001b[0m\u001b[0;34m\u001b[0m\u001b[0;34m\u001b[0m\u001b[0m\n",
            "\u001b[0;31mNameError\u001b[0m: name 'tacos' is not defined"
          ]
        }
      ]
    },
    {
      "cell_type": "code",
      "source": [
        "places=['canada', 'mali', 'england', 'india', 'china']"
      ],
      "metadata": {
        "id": "DhZyM_LsWBba"
      },
      "execution_count": 60,
      "outputs": []
    },
    {
      "cell_type": "code",
      "source": [
        "places.sort()\n",
        "print(places)"
      ],
      "metadata": {
        "colab": {
          "base_uri": "https://localhost:8080/"
        },
        "id": "FIzR797KWeuE",
        "outputId": "6c4221fd-321f-4408-97c2-344d059e51be"
      },
      "execution_count": 63,
      "outputs": [
        {
          "output_type": "stream",
          "name": "stdout",
          "text": [
            "['canada', 'china', 'england', 'india', 'mali']\n"
          ]
        }
      ]
    },
    {
      "cell_type": "code",
      "source": [
        "places.sort(reverse=True)\n",
        "print(places)"
      ],
      "metadata": {
        "colab": {
          "base_uri": "https://localhost:8080/"
        },
        "id": "QQpLK4uRW-pj",
        "outputId": "42470ae2-1e04-496a-db58-bf86791ecd7e"
      },
      "execution_count": 64,
      "outputs": [
        {
          "output_type": "stream",
          "name": "stdout",
          "text": [
            "['mali', 'india', 'england', 'china', 'canada']\n"
          ]
        }
      ]
    }
  ]
}